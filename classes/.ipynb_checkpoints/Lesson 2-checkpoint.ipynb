{
 "cells": [
  {
   "cell_type": "markdown",
   "metadata": {
    "toc": true
   },
   "source": [
    "<h1>Table of Contents<span class=\"tocSkip\"></span></h1>\n",
    "<div class=\"toc\"><ul class=\"toc-item\"><li><span><a href=\"#Linear-Regression\" data-toc-modified-id=\"Linear-Regression-1\">Linear Regression</a></span><ul class=\"toc-item\"><li><span><a href=\"#6.7.-Absolute-and-Square-Trick\" data-toc-modified-id=\"6.7.-Absolute-and-Square-Trick-1.1\">6.7. Absolute and Square Trick</a></span></li><li><span><a href=\"#8.-Quiz\" data-toc-modified-id=\"8.-Quiz-1.2\">8. Quiz</a></span></li><li><span><a href=\"#9.-Gradient-Descent\" data-toc-modified-id=\"9.-Gradient-Descent-1.3\">9. Gradient Descent</a></span></li><li><span><a href=\"#10.-Mean-Absolute-Error\" data-toc-modified-id=\"10.-Mean-Absolute-Error-1.4\">10. Mean Absolute Error</a></span></li><li><span><a href=\"#11.-Mean-Absolute-Error\" data-toc-modified-id=\"11.-Mean-Absolute-Error-1.5\">11. Mean Absolute Error</a></span></li><li><span><a href=\"#12.-Quiz\" data-toc-modified-id=\"12.-Quiz-1.6\">12. Quiz</a></span></li><li><span><a href=\"#13.-Minimizing-Error-Functions\" data-toc-modified-id=\"13.-Minimizing-Error-Functions-1.7\">13. Minimizing Error Functions</a></span></li><li><span><a href=\"#14.-Mean-vs-Total-error\" data-toc-modified-id=\"14.-Mean-vs-Total-error-1.8\">14. Mean vs Total error</a></span></li><li><span><a href=\"#15.-Mini-Batch-Gradient-Decent\" data-toc-modified-id=\"15.-Mini-Batch-Gradient-Decent-1.9\">15. Mini Batch Gradient Decent</a></span></li><li><span><a href=\"#16.-Mini-Batch-Gradient-Descent-Quiz\" data-toc-modified-id=\"16.-Mini-Batch-Gradient-Descent-Quiz-1.10\">16. Mini-Batch Gradient Descent Quiz</a></span></li><li><span><a href=\"#17.-MAE-vs-MSE\" data-toc-modified-id=\"17.-MAE-vs-MSE-1.11\">17. MAE vs MSE</a></span></li><li><span><a href=\"#18.-Linear-Regression-in-scikit-learn\" data-toc-modified-id=\"18.-Linear-Regression-in-scikit-learn-1.12\">18. Linear Regression in scikit-learn</a></span></li><li><span><a href=\"#19.-Higher-Dimensions\" data-toc-modified-id=\"19.-Higher-Dimensions-1.13\">19. Higher Dimensions</a></span></li><li><span><a href=\"#20.-Multiple-Linear-Regression\" data-toc-modified-id=\"20.-Multiple-Linear-Regression-1.14\">20. Multiple Linear Regression</a></span></li><li><span><a href=\"#21.Closed-Form-Solution\" data-toc-modified-id=\"21.Closed-Form-Solution-1.15\">21.Closed Form Solution</a></span></li><li><span><a href=\"#23.-Linear-Regression-Warnings\" data-toc-modified-id=\"23.-Linear-Regression-Warnings-1.16\">23. Linear Regression Warnings</a></span></li><li><span><a href=\"#24.-Polynomial-Regression\" data-toc-modified-id=\"24.-Polynomial-Regression-1.17\">24. Polynomial Regression</a></span></li></ul></li></ul></div>"
   ]
  },
  {
   "cell_type": "code",
   "execution_count": 1,
   "metadata": {
    "ExecuteTime": {
     "end_time": "2019-04-18T13:52:09.887581Z",
     "start_time": "2019-04-18T13:52:08.800517Z"
    }
   },
   "outputs": [],
   "source": [
    "import numpy as np\n",
    "import pandas as pd\n",
    "import seaborn as sns\n",
    "import matplotlib.pyplot as plt"
   ]
  },
  {
   "cell_type": "markdown",
   "metadata": {},
   "source": [
    "# Linear Regression"
   ]
  },
  {
   "cell_type": "markdown",
   "metadata": {},
   "source": [
    "## 6.7. Absolute and Square Trick"
   ]
  },
  {
   "cell_type": "markdown",
   "metadata": {},
   "source": [
    "## 8. Quiz \n",
    "<img src='lesson2/absolute_trick_quiz.jpg'>"
   ]
  },
  {
   "cell_type": "markdown",
   "metadata": {},
   "source": [
    "For a line with equation\n",
    "$$y = {w_1}x + {w_2}$$\n",
    "The absolute trick for a point above the line is \n",
    "$$y = \\left( {{w_1} + p\\alpha } \\right)x + \\left( {{w_2} + \\alpha } \\right)$$\n",
    "For a point below the line\n",
    "$$y = \\left( {{w_1} - p\\alpha } \\right)x + \\left( {{w_2} - \\alpha } \\right)$$"
   ]
  },
  {
   "cell_type": "code",
   "execution_count": 2,
   "metadata": {
    "ExecuteTime": {
     "end_time": "2019-04-18T13:52:09.895168Z",
     "start_time": "2019-04-18T13:52:09.890470Z"
    }
   },
   "outputs": [],
   "source": [
    "def point_below(w1, w2, p, q, alpha):\n",
    "    return('y=%.1fx+%.1f'%(w1-p*alpha, w2-alpha))\n",
    "def point_above(w1, w2, p, q, alpha):\n",
    "    return('y=%.1fx+%.1f'%(w1+p*alpha, w2+alpha))"
   ]
  },
  {
   "cell_type": "code",
   "execution_count": 3,
   "metadata": {
    "ExecuteTime": {
     "end_time": "2019-04-18T13:52:09.907463Z",
     "start_time": "2019-04-18T13:52:09.898045Z"
    }
   },
   "outputs": [
    {
     "data": {
      "text/plain": [
       "'y=-0.1x+3.9'"
      ]
     },
     "execution_count": 3,
     "metadata": {},
     "output_type": "execute_result"
    }
   ],
   "source": [
    "point_below(-0.6, 4, -5, 3, 0.1)"
   ]
  },
  {
   "cell_type": "markdown",
   "metadata": {},
   "source": [
    "Square Trick Quiz\n",
    "\n",
    "<img src='lesson2/square_trick_exlain.jpg'>\n",
    "<img src='lesson2/square_trick_quiz.jpg'>"
   ]
  },
  {
   "cell_type": "code",
   "execution_count": 4,
   "metadata": {
    "ExecuteTime": {
     "end_time": "2019-04-18T13:52:09.914066Z",
     "start_time": "2019-04-18T13:52:09.910122Z"
    }
   },
   "outputs": [],
   "source": [
    "def line_equation(w1, w2, x):\n",
    "    return(w1*x + w2)\n",
    "\n",
    "def square_trick(w1, w2, p, q, alpha):\n",
    "    q_prime = line_equation(w1, w2, p)\n",
    "    return('y=%.2fx+%.2f'%(w1+p*alpha*(q-q_prime), w2+alpha*(q-q_prime)))"
   ]
  },
  {
   "cell_type": "code",
   "execution_count": 5,
   "metadata": {
    "ExecuteTime": {
     "end_time": "2019-04-18T13:52:09.922386Z",
     "start_time": "2019-04-18T13:52:09.917193Z"
    }
   },
   "outputs": [
    {
     "data": {
      "text/plain": [
       "'y=-0.40x+3.96'"
      ]
     },
     "execution_count": 5,
     "metadata": {},
     "output_type": "execute_result"
    }
   ],
   "source": [
    "square_trick(-0.6, 4, -5, 3, 0.01)"
   ]
  },
  {
   "cell_type": "markdown",
   "metadata": {},
   "source": [
    "## 9. Gradient Descent\n",
    "\n",
    "$${\\omega _i} \\to {\\omega _i} - \\alpha \\frac{\\partial }{{\\partial {\\omega _i}}}Error$$"
   ]
  },
  {
   "cell_type": "markdown",
   "metadata": {},
   "source": [
    "## 10. Mean Absolute Error\n",
    "\n",
    "$$MAE = \\frac{1}{m}\\sum\\limits_{i = 1}^m {\\left| {{y_i} - {{\\hat y}_i}} \\right|} $$"
   ]
  },
  {
   "cell_type": "markdown",
   "metadata": {},
   "source": [
    "## 11. Mean Absolute Error\n",
    "$$MSE = \\frac{1}{{2m}}\\sum\\limits_{i = 1}^m {\\left( {{y_i} - {{\\hat y}_i}} \\right)} $$"
   ]
  },
  {
   "cell_type": "markdown",
   "metadata": {},
   "source": [
    "## 12. Quiz\n",
    "<img src='lesson2/MAE_question.jpg'>"
   ]
  },
  {
   "cell_type": "code",
   "execution_count": 6,
   "metadata": {
    "ExecuteTime": {
     "end_time": "2019-04-18T13:52:10.140802Z",
     "start_time": "2019-04-18T13:52:09.925269Z"
    }
   },
   "outputs": [
    {
     "name": "stdout",
     "output_type": "stream",
     "text": [
      "MAE = 3.88\n",
      "MSE = 21.38\n"
     ]
    }
   ],
   "source": [
    "points = pd.DataFrame(dict(x=[2,5,-4,-7,8],\n",
    "                          y=[-2,6,-4,1,14]))\n",
    "points['y_hat'] = points.x.apply(lambda x: line_equation(1.2, 2, x))\n",
    "points['AE'] = np.abs(points.y - points.y_hat)\n",
    "print('MAE = %.2f'%points.AE.mean())\n",
    "points['SE'] = np.power(points.y - points.y_hat, 2)\n",
    "print('MSE = %.2f'%points.SE.mean())"
   ]
  },
  {
   "cell_type": "markdown",
   "metadata": {},
   "source": [
    "## 13. Minimizing Error Functions\n",
    "\n",
    "<img src='lesson2/derivative_of_MAE_and_MSE.jpg'>\n",
    "<img src='lesson2/MSE_as_square_trick.jpg'>\n",
    "\n",
    "<img src='lesson2/MAE_as_absolute_trick.jpg'>"
   ]
  },
  {
   "cell_type": "markdown",
   "metadata": {},
   "source": [
    "## 14. Mean vs Total error\n",
    "<img src='lesson2/mean_vs_total_error.jpg'>"
   ]
  },
  {
   "cell_type": "markdown",
   "metadata": {},
   "source": [
    "## 15. Mini Batch Gradient Decent\n",
    "<img src='lesson2/mini_batch_stochastic_gd.jpg'>"
   ]
  },
  {
   "cell_type": "markdown",
   "metadata": {},
   "source": [
    "## 16. Mini-Batch Gradient Descent Quiz\n",
    "\n",
    "In this quiz, you'll be given the following sample dataset (as in data.csv), and your goal is to write a function that executes mini-batch gradient descent to find a best-fitting regression line."
   ]
  },
  {
   "cell_type": "code",
   "execution_count": 20,
   "metadata": {
    "ExecuteTime": {
     "end_time": "2019-04-18T14:29:17.601532Z",
     "start_time": "2019-04-18T14:29:17.429041Z"
    },
    "scrolled": false
   },
   "outputs": [
    {
     "data": {
      "image/png": "[encoded data removed]",
      "text/plain": [
       "<Figure size 432x288 with 1 Axes>"
      ]
     },
     "metadata": {},
     "output_type": "display_data"
    }
   ],
   "source": [
    "import numpy as np\n",
    "import matplotlib.pyplot as plt\n",
    "# Setting a random seed, feel free to change it and see different solutions.\n",
    "np.random.seed(42)\n",
    "\n",
    "\n",
    "# TODO: Fill in code in the function below to implement a gradient descent\n",
    "# step for linear regression, following a squared error rule. See the docstring\n",
    "# for parameters and returned variables.\n",
    "def MSEStep(X, y, W, b, learn_rate = 0.005):\n",
    "    \"\"\"\n",
    "    This function implements the gradient descent step for squared error as a\n",
    "    performance metric.\n",
    "    \n",
    "    Parameters\n",
    "    X : array of predictor features\n",
    "    y : array of outcome values\n",
    "    W : predictor feature coefficients\n",
    "    b : regression function intercept\n",
    "    learn_rate : learning rate\n",
    "\n",
    "    Returns\n",
    "    W_new : predictor feature coefficients following gradient descent step\n",
    "    b_new : intercept following gradient descent step\n",
    "    \"\"\"\n",
    "    #w1 is W\n",
    "    #w2 is b\n",
    "    \n",
    "    y_hat = (W*X+b).reshape(-1)\n",
    "#     print('y_hat.shape: %s'%str(y_hat.shape))\n",
    "#     print('y.shape: %s'%str(y.shape))\n",
    "    \n",
    "    W_deriv = -1*np.dot(y-y_hat,X)\n",
    "    b_deriv = -1*np.sum(y-y_hat)\n",
    "    \n",
    "#     print('W_deriv.shape: %s'%str(W_deriv.shape))\n",
    "#     print('b_deriv.shape: %s'%str(b_deriv.shape))\n",
    "    \n",
    "    W_new = W - learn_rate*W_deriv\n",
    "    b_new = b - learn_rate*b_deriv\n",
    "#     Fill in code\n",
    "#     W_new, b_new = 0,0\n",
    "    return W_new, b_new\n",
    "\n",
    "\n",
    "# The parts of the script below will be run when you press the \"Test Run\"\n",
    "# button. The gradient descent step will be performed multiple times on\n",
    "# the provided dataset, and the returned list of regression coefficients\n",
    "# will be plotted.\n",
    "def miniBatchGD(X, y, batch_size = 20, learn_rate = 0.005, num_iter = 25):\n",
    "    \"\"\"\n",
    "    This function performs mini-batch gradient descent on a given dataset.\n",
    "\n",
    "    Parameters\n",
    "    X : array of predictor features\n",
    "    y : array of outcome values\n",
    "    batch_size : how many data points will be sampled for each iteration\n",
    "    learn_rate : learning rate\n",
    "    num_iter : number of batches used\n",
    "\n",
    "    Returns\n",
    "    regression_coef : array of slopes and intercepts generated by gradient\n",
    "      descent procedure\n",
    "    \"\"\"\n",
    "    n_points = X.shape[0]\n",
    "    W = np.zeros(X.shape[1]) # coefficients\n",
    "    b = 0 # intercept\n",
    "    \n",
    "    # run iterations\n",
    "    regression_coef = [np.hstack((W,b))]\n",
    "    for _ in range(num_iter):\n",
    "        batch = np.random.choice(range(n_points), batch_size)\n",
    "        X_batch = X[batch,:]\n",
    "        y_batch = y[batch]\n",
    "        W, b = MSEStep(X_batch, y_batch, W, b, learn_rate)\n",
    "        regression_coef.append(np.hstack((W,b)))\n",
    "    \n",
    "    return regression_coef\n",
    "\n",
    "\n",
    "# if __name__ == \"__main__\":\n",
    "# perform gradient descent\n",
    "data = np.loadtxt('./lesson2/data.csv', delimiter = ',')\n",
    "X = data[:,:-1]\n",
    "y = data[:,-1]\n",
    "regression_coef = miniBatchGD(X, y)\n",
    "\n",
    "# plot the results\n",
    "\n",
    "\n",
    "plt.figure()\n",
    "X_min = X.min()\n",
    "X_max = X.max()\n",
    "counter = len(regression_coef)\n",
    "for W, b in regression_coef:\n",
    "    counter -= 1\n",
    "    color = [1 - 0.92 ** counter for _ in range(3)]\n",
    "    plt.plot([X_min, X_max],[X_min * W + b, X_max * W + b], color = color)\n",
    "plt.scatter(X, y, zorder = 3)\n",
    "plt.show()"
   ]
  },
  {
   "cell_type": "markdown",
   "metadata": {},
   "source": [
    "## 17. MAE vs MSE\n",
    "<img width='45%' style='float:left' src='./lesson2/caveats_of_MAE.jpg'>\n",
    "<img width='45%' style='float:left' src='./lesson2/caveats_of_MSE.jpg'>"
   ]
  },
  {
   "cell_type": "markdown",
   "metadata": {},
   "source": [
    "## 18. Linear Regression in scikit-learn"
   ]
  },
  {
   "cell_type": "code",
   "execution_count": 22,
   "metadata": {
    "ExecuteTime": {
     "end_time": "2019-04-18T14:42:00.887887Z",
     "start_time": "2019-04-18T14:42:00.874208Z"
    }
   },
   "outputs": [
    {
     "data": {
      "text/plain": [
       "array([[60.31564716]])"
      ]
     },
     "execution_count": 22,
     "metadata": {},
     "output_type": "execute_result"
    }
   ],
   "source": [
    "from sklearn.linear_model import LinearRegression\n",
    "\n",
    "# Assign the dataframe to this variable.\n",
    "# TODO: Load the data\n",
    "bmi_life_data = pd.read_csv(\"bmi_and_life_expectancy.csv\")\n",
    "\n",
    "# Make and fit the linear regression model\n",
    "#TODO: Fit the model and Assign it to bmi_life_model\n",
    "bmi_life_model = LinearRegression()\n",
    "bmi_life_model.fit(bmi_life_data[['BMI']], bmi_life_data[['Life expectancy']])\n",
    "\n",
    "# Mak a prediction using the model\n",
    "# TODO: Predict life expectancy for a BMI value of 21.07931\n",
    "laos_life_exp = bmi_life_model.predict(21.07931)\n",
    "laos_life_exp"
   ]
  },
  {
   "cell_type": "code",
   "execution_count": 27,
   "metadata": {
    "ExecuteTime": {
     "end_time": "2019-04-18T14:44:05.584832Z",
     "start_time": "2019-04-18T14:44:05.291431Z"
    }
   },
   "outputs": [
    {
     "name": "stderr",
     "output_type": "stream",
     "text": [
      "/Users/louwrenslabuschagne/anaconda3/envs/py36/lib/python3.6/site-packages/scipy/stats/stats.py:1713: FutureWarning: Using a non-tuple sequence for multidimensional indexing is deprecated; use `arr[tuple(seq)]` instead of `arr[seq]`. In the future this will be interpreted as an array index, `arr[np.array(seq)]`, which will result either in an error or a different result.\n",
      "  return np.add.reduce(sorted[indexer] * weights, axis=axis) / sumval\n"
     ]
    },
    {
     "data": {
      "text/plain": [
       "<seaborn.axisgrid.FacetGrid at 0x1a204c8358>"
      ]
     },
     "execution_count": 27,
     "metadata": {},
     "output_type": "execute_result"
    },
    {
     "data": {
      "image/png": "[encoded data removed]",
      "text/plain": [
       "<Figure size 360x360 with 1 Axes>"
      ]
     },
     "metadata": {},
     "output_type": "display_data"
    }
   ],
   "source": [
    "sns.lmplot(data=bmi_life_data,\n",
    "                x='BMI',\n",
    "                y='Life expectancy')"
   ]
  },
  {
   "cell_type": "markdown",
   "metadata": {},
   "source": [
    "## 19. Higher Dimensions"
   ]
  },
  {
   "cell_type": "markdown",
   "metadata": {},
   "source": [
    "## 20. Multiple Linear Regression\n",
    "<img src='lesson2/MLR.jpg'>"
   ]
  },
  {
   "cell_type": "code",
   "execution_count": 29,
   "metadata": {
    "ExecuteTime": {
     "end_time": "2019-04-18T14:50:26.366499Z",
     "start_time": "2019-04-18T14:50:26.329490Z"
    }
   },
   "outputs": [
    {
     "data": {
      "text/plain": [
       "array([23.68420569])"
      ]
     },
     "execution_count": 29,
     "metadata": {},
     "output_type": "execute_result"
    }
   ],
   "source": [
    "from sklearn.linear_model import LinearRegression\n",
    "from sklearn.datasets import load_boston\n",
    "\n",
    "# Load the data from the boston house-prices dataset \n",
    "boston_data = load_boston()\n",
    "x = boston_data['data']\n",
    "y = boston_data['target']\n",
    "\n",
    "# Make and fit the linear regression model\n",
    "# TODO: Fit the model and assign it to the model variable\n",
    "model = LinearRegression()\n",
    "model.fit(x,y)\n",
    "\n",
    "# Make a prediction using the model\n",
    "sample_house = [[2.29690000e-01, 0.00000000e+00, 1.05900000e+01, 0.00000000e+00, 4.89000000e-01,\n",
    "                6.32600000e+00, 5.25000000e+01, 4.35490000e+00, 4.00000000e+00, 2.77000000e+02,\n",
    "                1.86000000e+01, 3.94870000e+02, 1.09700000e+01]]\n",
    "# TODO: Predict housing price for the sample_house\n",
    "prediction = model.predict(sample_house)\n",
    "prediction"
   ]
  },
  {
   "cell_type": "markdown",
   "metadata": {},
   "source": [
    "## 21.Closed Form Solution\n",
    "Even though there exists a closed form solution, for n-variabes we would have to invert a $n\\times n$ matrix which is very computationally expensive, so instead we use gradient decent, that might not get us to the perfect answer, but will get us closer and closer. \n",
    "<img src='lesson2/closedFormSolution.jpg'>\n",
    "\n",
    "<img src='lesson2/closedFormSolution_deriv1.jpg'>\n",
    "<img src='lesson2/closedFormSolution_deriv2.jpg'>"
   ]
  },
  {
   "cell_type": "markdown",
   "metadata": {},
   "source": [
    "## 23. Linear Regression Warnings\n",
    "<img src='lesson2/lr_warnings1.jpg'>\n",
    "<img src='lesson2/lr_warnings2.jpg'>"
   ]
  },
  {
   "cell_type": "markdown",
   "metadata": {},
   "source": [
    "## 24. Polynomial Regression\n",
    "<img src='lesson2/poly_regression.jpg'>"
   ]
  },
  {
   "cell_type": "code",
   "execution_count": null,
   "metadata": {},
   "outputs": [],
   "source": []
  }
 ],
 "metadata": {
  "kernelspec": {
   "display_name": "Python 3",
   "language": "python",
   "name": "python3"
  },
  "language_info": {
   "codemirror_mode": {
    "name": "ipython",
    "version": 3
   },
   "file_extension": ".py",
   "mimetype": "text/x-python",
   "name": "python",
   "nbconvert_exporter": "python",
   "pygments_lexer": "ipython3",
   "version": "3.6.8"
  },
  "latex_envs": {
   "LaTeX_envs_menu_present": true,
   "autoclose": false,
   "autocomplete": true,
   "bibliofile": "biblio.bib",
   "cite_by": "apalike",
   "current_citInitial": 1,
   "eqLabelWithNumbers": true,
   "eqNumInitial": 1,
   "hotkeys": {
    "equation": "Ctrl-E",
    "itemize": "Ctrl-I"
   },
   "labels_anchors": false,
   "latex_user_defs": false,
   "report_style_numbering": false,
   "user_envs_cfg": false
  },
  "toc": {
   "nav_menu": {},
   "number_sections": false,
   "sideBar": true,
   "skip_h1_title": false,
   "title_cell": "Table of Contents",
   "title_sidebar": "Contents",
   "toc_cell": true,
   "toc_position": {},
   "toc_section_display": true,
   "toc_window_display": true
  },
  "varInspector": {
   "cols": {
    "lenName": 16,
    "lenType": 16,
    "lenVar": 40
   },
   "kernels_config": {
    "python": {
     "delete_cmd_postfix": "",
     "delete_cmd_prefix": "del ",
     "library": "var_list.py",
     "varRefreshCmd": "print(var_dic_list())"
    },
    "r": {
     "delete_cmd_postfix": ") ",
     "delete_cmd_prefix": "rm(",
     "library": "var_list.r",
     "varRefreshCmd": "cat(var_dic_list()) "
    }
   },
   "types_to_exclude": [
    "module",
    "function",
    "builtin_function_or_method",
    "instance",
    "_Feature"
   ],
   "window_display": false
  }
 },
 "nbformat": 4,
 "nbformat_minor": 2
}
